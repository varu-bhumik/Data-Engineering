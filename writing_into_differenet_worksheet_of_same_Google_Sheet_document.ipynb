{
  "nbformat": 4,
  "nbformat_minor": 0,
  "metadata": {
    "colab": {
      "name": "writing into differenet worksheet of same Google Sheet document",
      "provenance": [],
      "authorship_tag": "ABX9TyN5htV8dKvNBLgmvyM7iMl8",
      "include_colab_link": true
    },
    "kernelspec": {
      "name": "python3",
      "display_name": "Python 3"
    },
    "language_info": {
      "name": "python"
    }
  },
  "cells": [
    {
      "cell_type": "markdown",
      "metadata": {
        "id": "view-in-github",
        "colab_type": "text"
      },
      "source": [
        "<a href=\"https://colab.research.google.com/github/varu-bhumik/Data-Engineering/blob/main/writing_into_differenet_worksheet_of_same_Google_Sheet_document.ipynb\" target=\"_parent\"><img src=\"https://colab.research.google.com/assets/colab-badge.svg\" alt=\"Open In Colab\"/></a>"
      ]
    },
    {
      "cell_type": "markdown",
      "metadata": {
        "id": "m37rRr2b442L"
      },
      "source": [
        "Below is a snippet of code that explain a way in which we could wriite a python data frame into the different worksheet of the same google sheet document.\n",
        "\n",
        "I have taken an example in which we have a main sheet which contain text data. The data has three columns, we are splitting the data into different sheets, based on the value of particular column.e.g.\n",
        "![image.png](data:image/png;base64,iVBORw0KGgoAAAANSUhEUgAAAlsAAAB7CAYAAABD9kVuAAAgAElEQVR4Ae2dba8lWVXH+3P4Jfo78KLnI9Dv1AhpMFEjpFE0QuxEjA9pSSAwLQHFdExMSOhgSMhIsNUOUYxpolHbKEGZAYahx4DG5uFNmf8dfj2r16xdp87te27VOetfyZldtfd62v/1sNepMzP3yg9/9OPpoj9f/OIXp/y5aB2Wd/F+OySm33jlm9P73v+B6Z/++V+n/3vyg+nDH/n49Kd/9pkLj71D7sGyLz7m7t+/3yoGPvKxP5x++ufe9fTzs+/8+emzn/v89OQHP2yFg/z+6muvt/j82398ffql9/7q9Bdf+usW+53za8d8V87r7LhyiAMkN1p6PoQey7z4w+9QmP75578wfeDWh6b//t73z2Lhy3/7lelXfv2D03dee+zYOMAXnkP58aLldi6+wvK17z6efvO3fmf6/BdeapUHnZqt/3z5W9MHb/22m63XXp8657ubrcYH3UUfnCN53/v+/0y3PvS7T7/N883+Z97x7ukv/+pBq0NmhFHX+c7FF59/5rOfm/j2y9ypj52arW9++7Xp925/ZPrEp/5k+vZ3Hj99u/WVf/jq9J73/dr01X/8l6dzc2+FTmGtc7672XKzdfBmRz8d/vLN90///rWvP9X1gx/+aPrkH989+zlRPyue+uHi/dVvYTsXX8WEfl7XG1+9+e0UI52aLTVJf/f3D6f3vO/Xpy/dfzB969XvTl/7+svT7//BR6cPf/TFSc3YKTRSS/bQOd/dbLnZOmiRV1P1iU99evrYnU+e/bta8UBR83Xz/b/xTBMW131fNyinhEvH4subXY3vfPcvTp/69N3pe9//34Pm4dZipluzpUbkb778lbN6pzf673jXL0wf/8QfTf/18rfaNFrCoHO+u9lys9WqyG/t0OluT7fi293f7L9js7Xkzc+p03TOdzdbbrbcbDkGVouBzsWXxqPj6Garx3+JmZvHzvnuZssH7WoHbcdDxnt+9qfRzsW3cyy42XKz1S3+3Wy52XKz5RhYLQbcbD3bfHY5gNxsudnqEuvs80r1/8Q6xBwKPfYsrva7/V7FgJutnnHhZsvNVlUPTnnOzZbfaqz2VuOUE8t7W9ZEuNlahtOpxZObLTdbpxbTu/bjZsvNlpstx8BqMeBmy81W/peo/Xy6jVjnfHez5YN2tYN21zcBr5/+Qdy5+HaOb7/ZOt2Gaq5Z7pzvbrbcbLnZcgysFgOdi6+brZ4Nx1wzcuprnfPd/zWiD9rVDtrOh433/sZbu87Ft3MMyO+n3lh4f29tpjvn+xVt3h9j4BhwDDgGHAOOAceAY+AwMXCQN1v5G5uc58sIGAEjkBH4xssv5yk/N0DAfm/g5GKLnf3uZqsICE8ZASNwOQh0Lr6Xg/A2tdjv2/TLoa3q7Hc3W4eOLss3AkZgiEDn4jsEpcGC/d7AycUWO/vdzVYREJ4yAkbgchDoXHwvB+FtarHft+mXQ1vV2e9utg4dXZZvBIzAEIHOxXcISoMF+72Bk4stdva7m60iIDxlBIzA5SDQufheDsLb1GK/b9Mvh7aqs9/dbB06uizfCBiBIQKdi+8QlAYL9nsDJxdb7Oz3TTRbjx49mq5evTpduXLl7HP37t3CTc839fjx4+mFF144k//gwYMzYbdu3Tp71ujLCBiBy0dgV/G96Nqg3L9x48b05MmTs82q1qjuxLnLR6GfxsrvVY3eBxn5VH6kvu/De1G0xKvOM91zbcE2bFlzrPy+pj2XqXsTzRYFj2ZLTZES7yKvKpHdbF0kwpZlBPZHYFfxvcjagKzYWFVz++/CHPsiUPm9qtFL5T4P71IdS+iqZmsrti2x/9A0ld8PrXMr8ldvtuj41Wjdvn37LW+fLgooB/xFIWk5RuDiEJgrvhddG9xYXZzfnldS5ffnqdHPw/u8e9nFv2Xbdtl+0euV3y9ax1blrd5s5W8Co7dNmQ5AR/MUVjVxeqWrV8tLf0ZEJm/aNK75apq9ejQCp4bAXPElD/lJZlQbwCTmvHI2viGHN+a06OGJb7uQl3kyTeR9+PDhM/8qhHh9jRGo/F41JUswJk6ib6PvVbvjWvYNftaYaaU/XtgT5cWzAVuIWZ4j/dve9rZJH81l+eiP9kf9x35f+f3Y97TU/tWbLYKXQjYKNoKWIGaD1TwyY4DHe5IjJhny5nhzYsDj0QgYgfMhMFd8ycVdtUGayeWY57rn0KrWJT/rkKx46I/kiQ7eTMOz1n3VCFR+j7hTo5dgzBkA7hrx+4ifmJJ1VWxEWbtsiWcStjDHc5Qn21588cXy3xXEFo2neFV+P8V9VntatdmKPxNQmGLCMSfDCVqCmM3k+cgfA5YgVtCTPMxBN+IlYbNubPBoBIzA+RAYFd/z1AblNjUj5jJz5HE8aOfmYr5HedQLeKPeaHfUcz50Tper8nvEmBq9FOOKN58NQjP6Bx2cA/FsiPLwN3Q8R1nMVTqjLHTO0cW4O7UIqPx+ansc7WfVZqsKOBlKUMdiNaLN8wpmJU0O2Crg0UOiwMu3IkCLvEp+X0bACFwMAqPim/MabeRsrA2jvIWHkYM78ua5eIDmXIeW+pCf5/Sw5vENBCq/xzpLU7IU44qXuNB5UH2o+1VMyUrmocMWZDEffVrFbWVbFWfIj/EZZZ/CfeX3U9jXkj2s2mwRXARvHmPDVAWxNpjnSTAKIiBUAT9KphzsVWIg16MRMALnR2BUfPepDdDmvM1WVXR5rqoTyMm1JfNCN5pn3eM0VX6vsB9hmefnePO5wjPNUj4H8E81zxwyGGWPrnweaa6yTfPEk+JWNBolT/OnelV+P9W95n2t1mzFACRgqzEHcQ5GApbGrAp2bTrqI5hJHI26kDXXqGFPBtLPRsAI7I9AVXxjrlY1gTlycZS32RrRizc2ZXlu7osVtNQHnqM86RzNZ3s6P+/yOzV6hGWejzED79K4yOcAfhnNs458xRQxUZ0/lW2SwbzOrnv37p39GoMcdJzaWPn91PY42s9qzVYMVJIjGkmgE3wEsQJbiaYrFkaaLQJYdDRRokWe5tHHHHRRB3PiJbHRcabc/zACRuC5EaiK70XXBnKZPI7NUTVHXYj5XtWVileAjOafG6wTElD5PWJMjR5hmecr3ljPRa+rosPfxAkwx/l41kQ6YpVYQSfPI51Zh86leLaxfmpj5fdT2+NoP6s1WwQyzVQ2kCCmOYrBTmDGMQY3iRjX4z2JjA0xeeZ4Sdhsq5+NgBE4HwJV8SUvl9YGaYYn5rnu5+qCeMj32IDFAznLizZVvLJlNH8+hE6Tq/J7xJ0aPcIyz0fe6PdRXER/Q6MxXnk+nkk5LuDd1WxF26QL+jwf7Til+8rvp7S/ub2s0mzFxCBIs5EVTZxTcKrwKQFUUGNRlSySkSAWnej1TCLnZMKGmADwa86XETACF4tALr4xx/epDbIqH4axMdJ6/sIm+dSJePiyQ+qDaoA+2Z4R72geuR4v/t/ZEqbR//E8wB/4MfsaP2f/VvP5bMhxwXrUP2dbjMls1ynGSc73U9zjaE+rNFsjYzxvBIxALwQ6F99enn52t/b7G3jELxe8BHgWqdN66ux3N1unFcvejRE4KgQ6F9+jctQFG9vd77wB421bfgt7wXBvRlxnv7vZ2kwY2hAj0A+BzsW3n7ff3HF3v8dmK//k+CZKp3fX2e9utk4vnr0jI3A0CHQuvkfjpAMYar8fANQjENnZ7262jiBAbaIROFUEOhffU/Xpkn3Z70tQOj2azn53s3V68ewdGYGjQaBz8T0aJx3AUPv9AKAegcjOfr9y//796TI+AtkfY+AYcAw4BhwDjgHHQLcY8JutI/g2YBONwKkioILrqx8C9ns/n2vHnf3uZqtnzHvXRmATCHQuvptwwEpG2O8rAb+y2s5+d7O1cvBZvRHojEDn4mu/d0ag594757ubrZ4x710bgU0g0Ln4bsIBKxlhv68E/MpqO/vdzdbKwWf1RqAzAp2Lr/3eGYGee++c7262esa8d20ENoFA5+K7CQesZIT9vhLwK6vt7Hc3WysHn9Ubgc4IdC6+9ntnBHruvXO+r9ZsPXnyZLpx48bZR/f52rWe6Z/3GX38YVDG/JfY9Tetbt68OVU2P68NS/j5K/G3bt1aQn7pNMJF+AinuUu4bmUP/J2y7Os5+49lTRizL2J8F+53796dLusP484VX2KdXNSY/46c9hLXq3vVmZivldxMI/+CVyVTcxXPscTF2nbO+X1t26z//Aio1uQcjdI6+93N1jRNFN98CClwVFTjvO7XLLIjW2NAr3m/K9lkG4dYxHVNm0+12cr72hru8vmo+GK7Gr946Vk5meeh2ZWfI37xSS6NqeSBV5Xv5OFlNaXs71TGkd9PZX8d90FOuNmqve9ma5rOCveoaKo4x7VdxbyG+eJmCeitNCp5Z262MiLrPdOw0EDQPGwpdkaH7lyenXdNOMw1asr1eFCAV9VsyavIA9/1PH18mkd+P76d2GIQUF4qv2IOscbY2e9H12zxzVRO1SceHLlY4uDcMDHPOOJjXSOFF70aY5Gds4sG6c6dO2dvxZAxKuJRb75HVtx3pKnWsT02jeLJuJAs2BfpkSGauNeYWHFeMiobsQ8dkX9uLe4x39NUIFOjbIlX3lvEHv7Kn5EuytM9hy16416gzTRZnuzSnGIjy8m80T7Jn8Mr80rH66+/fqZLOiMe2e4YF0v8zl7BkX0Q79I1ukbFVzwx/kb8eV58GWNo5tZEA57Yy95H8thvjjX0eRwjMPL7mMMrW0ZA9Ub5eu/ePTdbA0cdVbOlIhgPhlwcq+JHwaSAVjjAVx3Smb4q2CO7KNLYGeVjFzRZz+gZWXP7yTayv4gd+pGTeVjHPp6rPcRDUUkX9VT7QBa6RYONcY7mLTcZUSZ8kUb3spM5yYw2Zv1ZBnrnDtGsQzaJPupBDnagN9LINtnKvqHRHNgjO+KKzfDN0WT90Yfiy/jEfUR7wIO5uA/wyDRxb9KVr9GhizzxY3/mrZ61l4gbNEvyRrQRC/ZZyRMtNu5jH/Z0H0d+747LMe6fWqQ80CfWqbyfzn5fvdlSMZ37UOhwKMUcJ8aCVxVH+HYVROREW+Jhgr5czEfykadxVOhHvOiqxpGsSCudMeD1fP369bMP+EXd8X4kp8JWtJWuqDvK4x5ZwpIr46p56IgBaOM4x6c1ZERdkV/3cf/CRzEATpmWZ61X8cE6fspy0MW87MpytJYxhE9466r42Ct4ZZ68jq3Zh3FvS3hGNOifw36u+MqOmI+6Z2/YnkfpqmiwBdwzH88R19G+RIt/K13I8jhGYM7vYy6vbA0BcoQcz7Uk29vZ76s3W6NihRNZrw4gOZKiRxHNztZ8PsxyAORn8cQiTyCJLhfzrA9Z0a54z7pG5qP8uF7dL+GBBkwkP34kV3ZXuIA7++fQZz7bmvefn6s9ZFn5OfLs4z/pxm6N2Io/2UuUr3sOYtFHvkwXn+ERPThX67IpXnmv0kmMQyd52Vb0SR7+ZX/waYx4RR6tZd3wgRu2RhlzPNiIPRkH5is70b20+OIb/Jt1Ia/CU2tgMeKL/OQFe0dnHuf2hTyPNQJL/V5ze3YrCMRaIZtUQ6gLlY2d/X5UzVYudvGZIkqB1zPF8rxFEX7p4SDKxVx6quCKdnCPDIIQ+fvYh6xdPFrXBx3SrQ8HCevYomfwhEb07A05oouXaCI+kSfSxfssa25POZmjHN1ziGL7yO+Zjn1VMuJ+sr74zD7QrVH6dWVc4IMHHDWet9mKeuM9/mPPskVX1o1N2daI+RIe9LB35I54Wde4b/ElVqL/orwKT63DB+6RJ95rHfywP/sn0vv+fAjs6/fzaTHXIREg76kv0qX7UW5qvbPfj6rZogjuCiAK7sOHD88cH4Mh81KE80EBHQHFOrJViHWNgivKjffI1cj8rgPgPDwcmLLv2rVrZ02J9qJ7zQlLcNGow5pn9OmZxOHgybZm3siDnDxmWfk50rMPYZUv+PJhyHy2FX5wZ2/4WLbDuzTWkKlR+mi4osxIg3xs05jt156xDd4oD/uJSWjyGHm0lnVDn30YMV/CM7KHefaKvjhWxTfbHel1n+2N6xWerM+tiSbby96zf5Dn8fwIVH4/vzRzroGA6kT8kpfvq7zv7PejabZGBbia58DX/1xzSaFUUIwO1yw/F2zW88EXD4RcxEkMeEW79BrJyvySrcYqYsDh8fa3v/2Z/cr2fLhLnvbKPLw5geI+xQP20j+6KlmVD6Ab+XCEBbhmW6M90W7o8QPP2aeRv7qP9sT7SJtly8a8v8of8GFjxSc9cT7zgGfGJWIhGdJPPizhgSbvA/1ZX8SjKr4jefDJXuKSOca4f+YYsWfk14z7LjuQ63F/BCq/7y/FHFtDYC43ZWtnvx9NsyVHqZDGIjsqhszzlmFXQHIwcsBAz3w8LOJBBF22Cz4OH55lD4clc9Aga9cIX7Sp4okYRFrdy444x2EbDyHmwBt5kU96oWNfHGg8V7ZpTnLi3uGL8mVPxCzLwqboN+bYI89RF/rhQ3e0WXaw96xXz/lg1lzGItuPLejFjmxbJTvbyHPEK+snViRPF/ojz8hubFzKg+6sS35g7syI9I9R8WV/GRvmRzK1t8wTVYqvskl8OdbY+5y8KNv3yxEY+X25BFNuEQHVgbm62dnvR9VsKbgoliqM+uSDgwAU3ZzToYsjBRfZufiKlmKvtVjws11xjUPv9u3bZ28MkJ9tR3bkjfbpHlmZN9PpGZuUAFwcinFOa8xjmw4YfoaVHA6erBc+5EEnOXOHFHyig5e9YQMHPrZXY9QHn+TJTvgrGtYkE9yxQ3PYEumyfvBFb9wLtHGfWs/46TnjJLk5dudsRH/mkQ2Sr3Xt45VXXjnTlW3ARvYv/ewb7HbxSBc2Yg//ny3JG11zxRfdyNNY7THKrvCM67rHt1Fu9oHo0F+tZZl+3g+BOb/vJ8nUW0JANWQuRzv7fbVm69ABsqToHtoG5FPc5w4daBWsS+ig92gEtooAcU8TV9nZufhWeHSZs9+7ePrZfXb2+0k2W0uK/LMhcNgn7FnSRKlJnDucDmuppRuB/REYvQFSLPOGbCS1c/EdYdJh3n7v4OW37rGz30+q2aKp0c8DSxqbt4bCYWawa5dNotMBpcPLlxE4JgSI8V0/zeU9dS6+GYtOz/Z7J2+/udfOfj+pZutNl/rOCBiBY0Cgc/E9Bv8cykb7/VDIbltuZ7+72dp2bNo6I3DSCHQuvift2B2bs993AHSiy5397mbrRIPa2zICx4BA5+J7DP45lI32+6GQ3bbczn6/cv/+/ekyPgLZH2PgGHAMOAYcA44Bx0C3GPCbrW1/EbB1RuCkEVDB9dUPAfu9n8+1485+d7PVM+a9ayOwCQQ6F99NOGAlI+z3lYBfWW1nv7vZWjn4rN4IdEagc/G13zsj0HPvnfPdzVbPmPeujcAmEOhcfDfhgJWMsN9XAn5ltZ397mZr5eCzeiPQGYHOxdd+74xAz713znc3Wz1j3rs2AptAoHPx3YQDVjLCfl8J+JXVdva7m62Vg8/qjUBnBDoXX/u9MwI9994531dttpb8odq1QlJ/DPrq1avTo0ePhibw9+C0j9Glv4e464/xjnjPMy97b968eXR/X1E47cL7PHiYZ9sIVMWXP2wd/85ivI9xsqSGKJcjf3XP3y3dh3bbyG7busrv27bY1o0QyDkzdx529rubrUEEHWuzpUC/ceOGm62BXz29LQSq4kuztSSO92m2lNO7Lg6OJbS7ZHl9jEDl9zG1V7aKQM6XXS8gOvvdzdYgihVE8Rt0RbYrsMRz2W+23GxVnvLcVhGoiq+bra166+Lsqvx+cdIt6TIQGOXp3K8Unf2+2WZr5Eg1E7kJyo0R3TY/F+RvyFUDlBunLFPBq5/opBu5t2/fPvuJUDaNLnTdu3fvKZ/4Nc9V6cr7xz7xSR828BMl9MxrlNx8sYeoXzTMw7NLXrQn6pDc7J+4zn3eg7DMfLIl7if6sdIDfdxbtFPzwkt00Y+RHvs8Xg4CVfEl9qK/R9YojsiBEQ1xoXHXtQ/tLlleHyNQ+X1M7ZUtIjDK06o2Y39nv2+22ZJzOBx1YOri4MyNhAouhVk8cZ2AiAU5y42yJUsXB7KaEJ4lV7y6kKs5eM4W0j+wB/u0nAt61hXlw1ftnTloxBexSKacPWJ35NFCxKSSi83sHxqe0aXn3DSxphH90R/IjnySM+fH3BxKtvae/RGxRWbcO3Oi83X5CFTFlxiJfhpZJp/HWKroiK8lPt6HttLluWUIVH5fxmmqLSGQ84VzYZS7nf2+6WYrH6h6vn79+lljRYODc3VoxvsYkMgRjS6NuUDDi1wFEYf/qPhnnqiTe+lCDnPwYU/UBU3WCQ/2QZf3ovVRoEeeaBO6kJ1lwqd1cMMe9gCNnqNs5hlzcjIf+Uayox+zzfEZGyU74hF1oHeki3WPh0WgKr74Uo1z/uTYijE5spSYy7J4jvGyD+1In+d3I1D5fTeXKbaIADWUfMpnQrS5s9833WxRdGMToEbizp07TxsKHcDXrl07+xmMw1gFM16VnFhgRUvAoEsyKOys5SDKcqNO7sWzjy74kE3jNLIhy4/NBbLymGVl3EYylmAie8At69VztheaKDvbAw2Y4KMoizjQz7XEA/SiG+nOWKDL4+UgUBVf/Ebsz1miWMj5lekVWzoINO669qHdJcvrYwQqv4+pvbJVBJR/sd6Tu6Oc7Oz3TTdbCjAdlBRdOVbPHKwa4/qoUBIA1SFNEHPoQiNZBBGHP4c2PBpFD0+c5148OfDmdMGHzewdnmyDnrETe+BBVjXKZuiijVlv5I2YLLUn8uteejMemo8+XerHzKP9yC6N2lNcl464T+xiH3M+hNbjxSNQFd+5GMwWjOIp0o3iKdJwvw8tPB73R6Dy+/5SzLEmAqNzkZqqepuvzn7ffLPFAa9Rh7RGnPnSSy89PVjlVJwvmnhRvDlQlxy66JVM9OXgyXKjTu731QUfsmmIRjZI/nmaLfb38OHDMwzBRvp1j17s0QjPHCbZnsiv+wqPLHupHyMmspk9cC9dcR+VbmTAm+3182ERqIpvjv05C+S3qnmPPIpbv9mKiKx/X/l9fatswT4ILK3TUWZnv2++2YqHYSyqKrL6uYifjOTQSBsdTFDosNVVHbrQcOjGxmJU/Ef6ou5KV+aLuuCFhmaBZ/YAnZ7P02whT/8D1Igh+ESZ6IoHG/zZHtFUvMgYHXxxH8jGF/Dio6hTNMKIRly04Kl9RVrdxxgS7UgXOj0eFoGq+I7yrbIkxmS1rrlRzFX0+9BW/J5bhkDl92WcptoKAlU9lm3U1Fh7sbmz3zffbMlJKqj6ZkrjoTk5Ms/FeRVNXRTueMjmIIFG8jjgObBFqyvzaA674DkjTP9YcsATnFEOstkzNDmA9Rybm0pfMunpo2grDNGFbjFwCEX9sjHiCk2056mycJP5wDbyYducH6NdkbeSJ9oKG/YasQ+m+vbACFTFl3yM8TcyI8dSRUdcEksVDXP70MLjcX8EKr/vL8UcayOg/Iu1l9yN50K0sbPfj6LZogDGg54DNc7hVOjVSMQGinWNmYafJDl0tR6DSDzoRK7eCulAgCfK537pAZ9li09yOXBoCvJ+9RztjHIyLTYxQlvRkTTsNeqAP9PIVuFY0cLDqL1F2fqPHjJf9lGFM7iAk+RjV5zTvPaZiwD8lWxs9Xg4BKriO/JfZUWMI+KJEf/nOGI9juehrezx3DIEKr8v4zTV1hBQXa1yqbKzs99XbbYqZ3ju8hCoGsrL025NRmCaOhffzv6333t6v7Pf3Wz1jPmzXeutgN/oNA6ADWy9c/HdAPyrmWC/rwb9qoo7+93N1qqht45yfnrhp5N1rLBWI+A3W11joPOh29Xn2ndnv7vZ6hz53rsRWBmBzsV3ZehXVW+/rwr/aso7+93N1mphZ8VGwAh0Lr6dvW+/9/R+Z7+72eoZ8961EdgEAp2L7yYcsJIR9vtKwK+strPfr9y/f3+6jI9A9scYOAYcA44Bx4BjwDHQLQb8ZmvlTt/qjUBnBFRwffVDwH7v53PtuLPf3Wz1jHnv2ghsAoHOxXcTDljJCPt9JeBXVtvZ7262Vg4+qzcCnRHoXHzt984I9Nx753x3s9Uz5r1rI7AJBDoX3004YCUj7PeVgF9ZbWe/u9laOfis3gh0RqBz8bXfOyPQc++d893NVs+Y966NwCYQ6Fx8N+GAlYyw31cCfmW1nf3uZmvl4LN6I9AZgc7F137vjEDPvXfO99WarSdPnkz623yjv8+3a70KVXgO8ceV7969O73wwgvT48ePK9WL58QvOZL3PBdyIn6SeeXKlenBgwdPRQuLq1evTo8ePXo65xsjsBUEquJLbO+KW+iqfGdN+cAn5or2rzzJ+ZJxQY50UF+QV40XUSOyDaf4XPn9FPfZYU/kEfkwd7Z19rubrYXZ4GZrIVAmMwJ7IFAVXxqca9euTdevXy+/4ECjAp+bLb505KIvOtHzZYTmKTdh0XzR0vQtoY+8vh8jUPl9TO2VrSJArpFT5GXOSezv7Hc3W0TBjtHN1g6AvGwEzoFAVXwp2Ddv3jx7800hj+I1pyZJb5JiYde8GqrcaMGreZonzeVn6Bglm2bMzRaoPP9Y+f35pVrCZSJAnsb8k37lYMyxaFNnvx9ds6XiyOvK/K2WYojz9dOZnH7v3r2zogwf6zEIdt1Lrwq7ZCFHo+bjhQ2RJh4WBCh8I7mRJ8rnHjkcBJqXLOmNvNrrKPCR5dEIrIVAVXyJbcWuYrrK19u3b5/FeW62RBtzIu8rytYaz+RjpKd+sEZuz8mP/L4fI1D5fUztlS0iQH7E80Z2zuVUZ78fVbOVGwecSjGmGPJMMMQGJPMsDWIamVhoFWSV7CU0FHDkxn/XI8utbGQfUReyYvBnzCpZnjMCayFQFSVbGIgAAAT3SURBVF9iW7GrWI65ITu1rrWXX375mTdbkW9uP+KNMvMzvMqnSEd9iTkHrcf9EKj8vp8EU6+NAOdrPG9k01wedvb76s1WfANU3VPYcCxNCoEWGxOKoYqnrjmefd/2SG/mIaiwqaKRHbGY78PD3tlrHJETaaQ/Nn/oznZHOb43AmsiUBVfYlt5w30s6LpXrLO2K9/z/mI+ao06EXXkWiI65qo6xRy1IOv087MIVH5/lsJPW0eA/MsxTz6Rl3Efnf2+erMVm4XoFAob63Jo1TREh8ODk3F6LKLSwXwOkqg/34s2fsvVOrqlD93YG/mlH9vhQXclV7yahyfK4h45UZ943GyBkMdjQKAqvsQ2eayRe+WZ/l0u5XCmW5rXkhVzmdxFh3CLOQuO0MWcY83jfghUft9Pgqm3gEA+c8hJnUMxn7C1s9+Pqtni22M1yukUQ5ys4qv/okljvAgI8Sy9RBsLtPiQI33ormzTHI0TPOjWWBXvqthHW5ETeSVLumJzKdvQHfl9bwS2gEBVfIlt8ljxTO4pl9VsKd8yXX4e7U9ykQdNzjfRxNwSHTme55HhcTkCld+Xc5tySwhw7ujsUV7p533lCPkbbe3s96NqtnKBjE7UPcUQJ/NNNzYfomOehifLqZ5Fm/XH4p51VzI0Bw+6K7mi0/xck4ScWPjF42ZrhLznt4hAVXyJbfKYZ+WxYlwfXcxDpzndx5zIe654oizJpj7kukGOz8nP+vxcI1D5vab07LEhQI7l/NE+Ovv9aJqtUQGM8xRDii9rFGeCVkEw18hAF0fJmGu2RFvR5HkCEZs0VrYsPTRi4ZcsN1vRa77fOgJV8SVHyGPtQfd6o8VPiJqr6EY5Dw6jfEOH8unOnTtvyXWtU19iziHX434IVH7fT4Kp10aA/OMsw56587Wz34+m2ZIjVXBjY5KLH88UaQpv5GEOGgJk16iA2tVsEXyxGKOPgISGZ41qkCIPc9U3g112et0IHBMCVfElR2KOKhdynlR02jv5Q46Bh+TlLyOsaSRXRRN1Q0N9ibnKmsf9EKj8vp8EU28BAeVYPBfJoZx72NrZ70fVbMlhFFIVxFwUKYYUShyvb6pquODJgaDn2JARGHEUTQwqrVXFHhvQpTE2TfBgA3L1/w2CZ5ctUXcs/JKV9QmLJfLiXn1vBC4Lgar4kiPksWwhl8kbzVV02M0aOaUx5gp0cSR3R/nCepRZ3cd8j/J9/yYCld/fXPXdMSHAuUMuzMV/Z7+v1mxdRjBRoOecjx1qdkR/2RfNlg4HX0agGwKdi283X8f92u8RjT73nf3uZusn35D1rXeNhsfNVp9C452+FYHOxfetaPSZsd/7+DrutLPf3Wz95P+pE3+eiMFx6Hs3W4dG2PK3jEDn4rtlvxzaNvv90AhvU35nv590s7XNcLNVRsAIgEDn4gsGHUf7vaPX/b9+mH74ox8f9HP//v2ekeVdGwEjMIuAD91ZeE520X4/WdfObqyz3/1mazY0vGgEjMAhEehcfA+J65Zl/9R7X5386YvBlmPzkLZd0Vuny/ioqPpjDBwDjgHHQO8YcKPVt9GS77vm/5VXX3t9OvTHPyMesl+2bCNwvAio8PrqhQDNVq9de7fd/e5myzlgBIzAagi42VoN+tUUdz90VwN+ZcXd/e5ma+UAtHoj0BkBN1v9vN/90O3n8Td23N3v/w+VcJuvfLGwdQAAAABJRU5ErkJggg==)"
      ]
    },
    {
      "cell_type": "markdown",
      "metadata": {
        "id": "m04sHl8667OC"
      },
      "source": [
        "We will try to write the all the rows of records corresponding to a distinct value in Action column to a seperate worksheet. i.e, all the records corresponding to STOP action value would be moved to a seperate worksheet named STOP, and similarly for different action values.\n",
        "\n"
      ]
    },
    {
      "cell_type": "code",
      "metadata": {
        "id": "xVkTIXpK4dHU"
      },
      "source": [
        "# Validation for Google sheet\n",
        "from google.colab import auth\n",
        "auth.authenticate_user()\n",
        "import gspread\n",
        "from oauth2client.client import GoogleCredentials\n",
        "gc = gspread.authorize(GoogleCredentials.get_application_default())"
      ],
      "execution_count": null,
      "outputs": []
    },
    {
      "cell_type": "markdown",
      "metadata": {
        "id": "Ueq7lnPe9nqU"
      },
      "source": [
        "You would get a link to navigate to in the browser, it would redirect you to allow access of google sheet to you code (Google Collab is the editor in this case)"
      ]
    },
    {
      "cell_type": "code",
      "metadata": {
        "id": "jf3NV0jM9lih"
      },
      "source": [
        "#Paste your dataset google sheet link in this line\n",
        "wb = gc.open_by_url('<Enter your sheet containing the dataset link here')"
      ],
      "execution_count": null,
      "outputs": []
    },
    {
      "cell_type": "code",
      "metadata": {
        "id": "9_vrKj3m9lp9"
      },
      "source": [
        "import pandas as pd\n",
        "from gspread_dataframe import get_as_dataframe, set_with_dataframe\n"
      ],
      "execution_count": null,
      "outputs": []
    },
    {
      "cell_type": "code",
      "metadata": {
        "id": "7KL0ua_39ltc"
      },
      "source": [
        "sheet = wb.sheet1\n",
        "data = sheet.get_all_values()\n",
        "df = pd.DataFrame(data)\n",
        "df = df.iloc[1:]"
      ],
      "execution_count": null,
      "outputs": []
    },
    {
      "cell_type": "code",
      "metadata": {
        "id": "ZS9bn6v29l1Z"
      },
      "source": [
        "Actions=df.Action.unique()"
      ],
      "execution_count": null,
      "outputs": []
    },
    {
      "cell_type": "code",
      "metadata": {
        "id": "nA8izXlk9l46"
      },
      "source": [
        "#Destination google sheet link\n",
        "from gspread_dataframe import get_as_dataframe, set_with_dataframe\n",
        "wb = gc.open_by_url('<Add the link to the google sheet where you want to store the filtered data with different sheets')\n"
      ],
      "execution_count": null,
      "outputs": []
    },
    {
      "cell_type": "code",
      "metadata": {
        "id": "ChL_8-Vc_qw-"
      },
      "source": [
        "for row in Actions:\n",
        "  df_new = df[df['Action'] == row ]\n",
        "  print(df_new)\n",
        "  wb.add_worksheet(title=row, rows=df_new.shape[0],cols=df_new.shape[1])\n",
        "  sheetx = wb.worksheet(row)\n",
        "  set_with_dataframe(sheetx,df_new)"
      ],
      "execution_count": null,
      "outputs": []
    }
  ]
}